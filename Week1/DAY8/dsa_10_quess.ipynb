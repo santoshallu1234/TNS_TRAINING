{
  "nbformat": 4,
  "nbformat_minor": 0,
  "metadata": {
    "colab": {
      "provenance": []
    },
    "kernelspec": {
      "name": "python3",
      "display_name": "Python 3"
    },
    "language_info": {
      "name": "python"
    }
  },
  "cells": [
    {
      "cell_type": "code",
      "source": [
        "# TNS - Write a python program to identify whether it is prime or not\n",
        "\n",
        "l1 = [2,3,5,7,11]\n",
        "num = int(input())\n",
        "ans = 0\n",
        "for i in l1 :\n",
        "  if num%i == 0 :\n",
        "    ans = 1\n",
        "print(\"not prime\") if ans else print(\"prime\")\n",
        "\n",
        "#loops\n",
        "for i in range(2,int(num/2)) :\n",
        "    if num%i == 0 :\n",
        "        print(\"not prime\")\n",
        "        break\n",
        "else :\n",
        "    print(\"prime\")"
      ],
      "metadata": {
        "colab": {
          "base_uri": "https://localhost:8080/"
        },
        "id": "Zn6p7BuogymH",
        "outputId": "3bdca97f-a1e6-4c59-cf10-77ae5e7d981c"
      },
      "execution_count": 7,
      "outputs": [
        {
          "output_type": "stream",
          "name": "stdout",
          "text": [
            "45\n",
            "not prime\n",
            "not prime\n"
          ]
        }
      ]
    },
    {
      "cell_type": "markdown",
      "source": [],
      "metadata": {
        "id": "tVoXijEIihIp"
      }
    },
    {
      "cell_type": "code",
      "source": [
        "#TNS - List of integer only return the even numbers list\n",
        "l2 = [ 1,2,3,4,5,6,7,8,9]\n",
        "ans = []\n",
        "for i in l2 :\n",
        "  if i %2 == 0 :\n",
        "    ans.append(i)\n",
        "ans\n",
        "\n"
      ],
      "metadata": {
        "colab": {
          "base_uri": "https://localhost:8080/"
        },
        "id": "YlpzYtN0iFD6",
        "outputId": "7a9af0bf-84b5-47d4-c966-383256c67e8f"
      },
      "execution_count": 9,
      "outputs": [
        {
          "output_type": "execute_result",
          "data": {
            "text/plain": [
              "[2, 4, 6, 8]"
            ]
          },
          "metadata": {},
          "execution_count": 9
        }
      ]
    },
    {
      "cell_type": "code",
      "source": [
        "#TNS - write a program to find the second largest number in the list without using sort function\n",
        "l3 = [34,75,32,97,75,32,76]\n",
        "max =  -1\n",
        "for i in l3 :\n",
        "  if i > max :\n",
        "    max = i\n",
        "max2 = -1\n",
        "for i in l3 :\n",
        "  if i > max2 and i != max :\n",
        "    max2 = i\n",
        "max2"
      ],
      "metadata": {
        "colab": {
          "base_uri": "https://localhost:8080/"
        },
        "id": "awJqmGuJjAbl",
        "outputId": "56162cc0-9821-4b39-abda-1efd543b4d6e"
      },
      "execution_count": 11,
      "outputs": [
        {
          "output_type": "execute_result",
          "data": {
            "text/plain": [
              "76"
            ]
          },
          "metadata": {},
          "execution_count": 11
        }
      ]
    },
    {
      "cell_type": "code",
      "source": [
        "# Given a list of tuple sort by the middle element of the tuple\n",
        "ques = [(3,4,2),(7,5,4),(8,2,1)]\n",
        "\n",
        "for i in range(len(ques)) :\n",
        "   for j in range(i + 1 ,len(ques)):\n",
        "    if ques[i][1] > ques[j][1]:\n",
        "      ques[i] , ques[j] = ques[j] , ques[i]\n",
        "ques\n"
      ],
      "metadata": {
        "colab": {
          "base_uri": "https://localhost:8080/"
        },
        "id": "wG7KCKNvjuj_",
        "outputId": "3520a018-f630-4586-8a14-56b882b47581"
      },
      "execution_count": 12,
      "outputs": [
        {
          "output_type": "execute_result",
          "data": {
            "text/plain": [
              "[(8, 2, 1), (3, 4, 2), (7, 5, 4)]"
            ]
          },
          "metadata": {},
          "execution_count": 12
        }
      ]
    },
    {
      "cell_type": "code",
      "source": [
        "#python program to return sum of tuples\n",
        "ques = [(3,4,2),(7,5,4),(8,2,1)]\n",
        "ans = []\n",
        "for i in ques :\n",
        "    ans.append(sum(i))\n",
        "ans\n",
        "\n"
      ],
      "metadata": {
        "colab": {
          "base_uri": "https://localhost:8080/"
        },
        "id": "sMA5VKxonHU9",
        "outputId": "a065ae12-517e-473f-8aaa-c9262a1827eb"
      },
      "execution_count": 13,
      "outputs": [
        {
          "output_type": "execute_result",
          "data": {
            "text/plain": [
              "[9, 16, 11]"
            ]
          },
          "metadata": {},
          "execution_count": 13
        }
      ]
    },
    {
      "cell_type": "code",
      "source": [
        "# given two list find common elements\n",
        "\n",
        "l1 = [3,5,2,8,1]\n",
        "l2 = [ 4,8,6,1,1,0]\n",
        "ans = set(l1).intersection(set(l2))\n",
        "ans"
      ],
      "metadata": {
        "colab": {
          "base_uri": "https://localhost:8080/"
        },
        "id": "vbovaX34psi7",
        "outputId": "38ebfe59-bb15-4b8d-f507-1760a2331313"
      },
      "execution_count": 18,
      "outputs": [
        {
          "output_type": "execute_result",
          "data": {
            "text/plain": [
              "{1, 8}"
            ]
          },
          "metadata": {},
          "execution_count": 18
        }
      ]
    },
    {
      "cell_type": "code",
      "source": [
        "#python program to remove all duplicates from a list using set and return as list\n",
        "l2 = list(set(l2))\n",
        "l2\n"
      ],
      "metadata": {
        "colab": {
          "base_uri": "https://localhost:8080/"
        },
        "id": "OiCD-ccxqLMT",
        "outputId": "eafbc051-1af8-4919-cdf7-e2ef3347e35c"
      },
      "execution_count": 20,
      "outputs": [
        {
          "output_type": "execute_result",
          "data": {
            "text/plain": [
              "[0, 1, 4, 6, 8]"
            ]
          },
          "metadata": {},
          "execution_count": 20
        }
      ]
    },
    {
      "cell_type": "code",
      "source": [
        "#8 write a python program that takes a dictionary and returns the key with the maximum value\n",
        "\n",
        "dict2 = { i: i*2 for i in range(1,6)}\n",
        "print(dict2)\n",
        "def getmax(dict1):\n",
        "  maxans = 0\n",
        "  max = -1\n",
        "  for i in dict1 :\n",
        "    if dict1[i] > max :\n",
        "      max = dict1[i]\n",
        "      maxans = i\n",
        "  print(max)\n",
        "  print(maxans)\n",
        "getmax(dict2)\n",
        "\n",
        "\n",
        "\n"
      ],
      "metadata": {
        "colab": {
          "base_uri": "https://localhost:8080/"
        },
        "id": "EzD-_QdIrA-j",
        "outputId": "091eaa64-386c-49de-ba99-7fc2e5ea9df5"
      },
      "execution_count": 35,
      "outputs": [
        {
          "output_type": "stream",
          "name": "stdout",
          "text": [
            "{1: 2, 2: 4, 3: 6, 4: 8, 5: 10}\n",
            "10\n",
            "5\n"
          ]
        }
      ]
    },
    {
      "cell_type": "code",
      "source": [
        "#9th\n",
        "str1= \"fcgvhhhyzbgztfa\"\n",
        "dict2 = dict()\n",
        "max = -1\n",
        "for i in str1 :\n",
        "     if i in dict2 :\n",
        "         dict2[i] += 1\n",
        "     else :\n",
        "        dict2[i] = 1\n",
        "     if dict2[i] > max :\n",
        "        max = dict2[i]\n",
        "print(dict2)\n",
        "print(max)\n",
        "for i in dict2 :\n",
        "     if dict2[i] == max :\n",
        "        print(i)\n",
        "\n",
        "\n",
        "\n",
        ""
      ],
      "metadata": {
        "colab": {
          "base_uri": "https://localhost:8080/"
        },
        "id": "8EM5cgplw-FA",
        "outputId": "9f4ae856-8207-4c2d-e2b7-2320452499dc"
      },
      "execution_count": 37,
      "outputs": [
        {
          "output_type": "stream",
          "name": "stdout",
          "text": [
            "{'f': 2, 'c': 1, 'g': 2, 'v': 1, 'h': 3, 'y': 1, 'z': 2, 'b': 1, 't': 1, 'a': 1}\n",
            "3\n",
            "h\n"
          ]
        }
      ]
    },
    {
      "cell_type": "code",
      "source": [
        "#10th\n",
        "dict2 = { i : [ i*2 , i*3 ] for i in range(1,6)}\n",
        "print(dict2)\n",
        "max = -1\n",
        "maxa = 0\n",
        "for i in dict2 :\n",
        "     if sum(dict2[i]) > max :\n",
        "        max = sum(dict2[i])\n",
        "        maxa = i\n",
        "\n",
        "maxa\n",
        "\n",
        "\n",
        "\n",
        ""
      ],
      "metadata": {
        "colab": {
          "base_uri": "https://localhost:8080/"
        },
        "id": "bDJ05ARby-Oe",
        "outputId": "603dd3c5-48a8-4082-ce2b-dccb7067f05d"
      },
      "execution_count": 51,
      "outputs": [
        {
          "output_type": "stream",
          "name": "stdout",
          "text": [
            "{1: [2, 3], 2: [4, 6], 3: [6, 9], 4: [8, 12], 5: [10, 15]}\n"
          ]
        },
        {
          "output_type": "execute_result",
          "data": {
            "text/plain": [
              "5"
            ]
          },
          "metadata": {},
          "execution_count": 51
        }
      ]
    }
  ]
}