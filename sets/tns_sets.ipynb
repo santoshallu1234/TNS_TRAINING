{
  "nbformat": 4,
  "nbformat_minor": 0,
  "metadata": {
    "colab": {
      "provenance": []
    },
    "kernelspec": {
      "name": "python3",
      "display_name": "Python 3"
    },
    "language_info": {
      "name": "python"
    }
  },
  "cells": [
    {
      "cell_type": "code",
      "execution_count": 6,
      "metadata": {
        "colab": {
          "base_uri": "https://localhost:8080/"
        },
        "id": "trdGgMwpdgh6",
        "outputId": "59852c4e-e0fc-459b-8869-507b82ada8b6"
      },
      "outputs": [
        {
          "output_type": "execute_result",
          "data": {
            "text/plain": [
              "{7, 'hello'}"
            ]
          },
          "metadata": {},
          "execution_count": 6
        }
      ],
      "source": [
        "my_set = set()\n",
        "my_set.add(7)\n",
        "my_set.add(\"hello\")\n",
        "my_set"
      ]
    },
    {
      "cell_type": "code",
      "source": [
        "my_set.update({4})\n",
        "\n",
        "\n",
        "set2= {5,6,7,4}\n",
        "ans = my_set.difference(set2)\n",
        "my_set\n",
        "\n",
        "\n",
        "\n"
      ],
      "metadata": {
        "colab": {
          "base_uri": "https://localhost:8080/"
        },
        "id": "R0Z4TET0duxK",
        "outputId": "c6292248-c6d3-4998-b9c0-65da7939aa02"
      },
      "execution_count": 19,
      "outputs": [
        {
          "output_type": "execute_result",
          "data": {
            "text/plain": [
              "{'hello'}"
            ]
          },
          "metadata": {},
          "execution_count": 19
        }
      ]
    },
    {
      "cell_type": "code",
      "source": [
        "#left most higest element\n",
        "\n",
        "set1 = {2,3,4}\n",
        "set2 = {3,5,21}\n",
        "result = set.union(set1,set2)\n",
        "set3 = {3,4,5,9}\n",
        "result.update(set3)\n",
        "result\n",
        "\n",
        "\n",
        "ans = set1.intersection(set2)\n",
        "ans\n",
        "ans = set1.symmetric_difference(set2)\n",
        "print(set1)\n",
        "set1.issuperset({2,3,4})\n",
        "\n",
        ""
      ],
      "metadata": {
        "colab": {
          "base_uri": "https://localhost:8080/"
        },
        "id": "uebEXcdWfqQ2",
        "outputId": "33436723-44b3-4325-85ed-1f124f6983b8"
      },
      "execution_count": 32,
      "outputs": [
        {
          "output_type": "stream",
          "name": "stdout",
          "text": [
            "{2, 3, 4}\n"
          ]
        },
        {
          "output_type": "execute_result",
          "data": {
            "text/plain": [
              "True"
            ]
          },
          "metadata": {},
          "execution_count": 32
        }
      ]
    },
    {
      "cell_type": "code",
      "source": [
        "dict1 = { i : [i*2] for i in range(1,11) }\n",
        "dict1.keys()\n",
        "#tuple(dict1)\n"
      ],
      "metadata": {
        "colab": {
          "base_uri": "https://localhost:8080/"
        },
        "id": "cZ88MiXNlZmj",
        "outputId": "953e2f89-19f5-4efc-92cd-0a79716f110a"
      },
      "execution_count": 58,
      "outputs": [
        {
          "output_type": "execute_result",
          "data": {
            "text/plain": [
              "dict_keys([1, 2, 3, 4, 5, 6, 7, 8, 9, 10])"
            ]
          },
          "metadata": {},
          "execution_count": 58
        }
      ]
    },
    {
      "cell_type": "code",
      "source": [
        "dict1.update({1:[9]})\n",
        "dict1"
      ],
      "metadata": {
        "colab": {
          "base_uri": "https://localhost:8080/"
        },
        "id": "Qt1oBTNllqjF",
        "outputId": "f434d5d1-790a-4ce5-ba26-1017dbbfbf4a"
      },
      "execution_count": 73,
      "outputs": [
        {
          "output_type": "execute_result",
          "data": {
            "text/plain": [
              "{1: [9],\n",
              " 2: [4],\n",
              " 3: [6],\n",
              " 4: [8],\n",
              " 5: [10],\n",
              " 6: [12],\n",
              " 7: [14],\n",
              " 8: [16],\n",
              " 9: [18],\n",
              " 10: [20]}"
            ]
          },
          "metadata": {},
          "execution_count": 73
        }
      ]
    },
    {
      "cell_type": "code",
      "source": [
        "dict2 = {\n",
        "    2 : \"s\" ,\n",
        "    None : None  ,\n",
        "    \"\" : 4 ,\n",
        "}\n",
        "dict2.popitem()"
      ],
      "metadata": {
        "colab": {
          "base_uri": "https://localhost:8080/"
        },
        "id": "vtkDrniVs6E3",
        "outputId": "289967cb-58bb-4a40-8653-980c2a4c3403"
      },
      "execution_count": 85,
      "outputs": [
        {
          "output_type": "execute_result",
          "data": {
            "text/plain": [
              "('', 4)"
            ]
          },
          "metadata": {},
          "execution_count": 85
        }
      ]
    }
  ]
}